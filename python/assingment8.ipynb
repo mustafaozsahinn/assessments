{
  "nbformat": 4,
  "nbformat_minor": 0,
  "metadata": {
    "colab": {
      "provenance": [],
      "collapsed_sections": [],
      "authorship_tag": "ABX9TyNalSy1mR39VQOC2+Y89Sz+",
      "include_colab_link": true
    },
    "kernelspec": {
      "name": "python3",
      "display_name": "Python 3"
    },
    "language_info": {
      "name": "python"
    }
  },
  "cells": [
    {
      "cell_type": "markdown",
      "metadata": {
        "id": "view-in-github",
        "colab_type": "text"
      },
      "source": [
        "<a href=\"https://colab.research.google.com/github/mustafaozsahinn/assessments/blob/main/assingment8.ipynb\" target=\"_parent\"><img src=\"https://colab.research.google.com/assets/colab-badge.svg\" alt=\"Open In Colab\"/></a>"
      ]
    },
    {
      "cell_type": "markdown",
      "source": [
        "Task : Find out if the given word is \"comfortable words\" in relation to the ten-finger keyboard use.\n",
        "\n",
        "A comfortable word is a word which you can type always alternating the hand you type with (assuming you type using a Q-keyboard and use of the ten-fingers standard).\n",
        "The word will always be a string consisting of only letters from a to z.\n",
        "Write a program which returns True if it's a comfortable word or False otherwise."
      ],
      "metadata": {
        "id": "Q2UsU5lhJAaY"
      }
    },
    {
      "cell_type": "code",
      "execution_count": 1,
      "metadata": {
        "colab": {
          "base_uri": "https://localhost:8080/"
        },
        "id": "KuE2x16SBG62",
        "outputId": "f0aff2c7-8da6-4f10-afd0-189e10dc2c42"
      },
      "outputs": [
        {
          "output_type": "stream",
          "name": "stdout",
          "text": [
            "type a word: sdkfj\n",
            "Your word is a comfortable\n"
          ]
        }
      ],
      "source": [
        "left_letters = (\"q\", \"w\", \"e\", \"r\", \"t\", \"a\", \"s\", \"d\", \"f\", \"g\", \"z\", \"x\", \"c\", \"v\")\n",
        "right_letters = (\"y\", \"u\", \"i\", \"o\", \"p\", \"h\", \"j\", \"k\", \"l\", \"b\", \"n\", \"m\")\n",
        "left = set(left_letters)\n",
        "right = set(right_letters)\n",
        "word = set(input(\"type a word: \"))\n",
        "\n",
        "if word.issubset(left) or word.issubset(right):\n",
        "  result = \"an uncomfortable\"\n",
        "else:\n",
        "  result = \"a comfortable\"\n",
        "\n",
        "print(f\"Your word is {result}\")"
      ]
    },
    {
      "cell_type": "code",
      "source": [
        "left_letters = (\"q\", \"w\", \"e\", \"r\", \"t\", \"a\", \"s\", \"d\", \"f\", \"g\", \"z\", \"x\", \"c\", \"v\")\n",
        "right_letters = (\"y\", \"u\", \"i\", \"o\", \"p\", \"h\", \"j\", \"k\", \"l\", \"b\", \"n\", \"m\")\n",
        "left = set(left_letters)\n",
        "right = set(right_letters)\n",
        "word = set(input(\"type a word: \"))\n",
        "\n",
        "not word.issubset(left) and not word.issubset(right)"
      ],
      "metadata": {
        "colab": {
          "base_uri": "https://localhost:8080/"
        },
        "id": "c0L8wjtnKT-y",
        "outputId": "c1e28243-1f33-4769-932a-824b2f32296c"
      },
      "execution_count": 7,
      "outputs": [
        {
          "name": "stdout",
          "output_type": "stream",
          "text": [
            "type a word: lsdfj\n"
          ]
        },
        {
          "output_type": "execute_result",
          "data": {
            "text/plain": [
              "True"
            ]
          },
          "metadata": {},
          "execution_count": 7
        }
      ]
    }
  ]
}