{
  "nbformat": 4,
  "nbformat_minor": 0,
  "metadata": {
    "colab": {
      "provenance": [],
      "collapsed_sections": [],
      "authorship_tag": "ABX9TyPjLijr1220REZFxXHjMiv8",
      "include_colab_link": true
    },
    "kernelspec": {
      "name": "python3",
      "display_name": "Python 3"
    },
    "language_info": {
      "name": "python"
    }
  },
  "cells": [
    {
      "cell_type": "markdown",
      "metadata": {
        "id": "view-in-github",
        "colab_type": "text"
      },
      "source": [
        "<a href=\"https://colab.research.google.com/github/mustafaozsahinn/assignments/blob/main/assingment11.ipynb\" target=\"_parent\"><img src=\"https://colab.research.google.com/assets/colab-badge.svg\" alt=\"Open In Colab\"/></a>"
      ]
    },
    {
      "cell_type": "markdown",
      "source": [
        "Task:\n",
        "\n",
        "Find out if a given year is a \"leap\" year.\n",
        "\n",
        "In the Gregorian calendar, three criteria must be taken into account to identify leap years:\n",
        "The year must be evenly divisible by 4;\n",
        "If the year can also be evenly divided by 100, it is not a leap year; unless...\n",
        "The year is also evenly divisible by 400. Then it is a leap year.\n",
        "According to these rules, the years 2000 and 2400 are leap years, while 1800, 1900, 2100, 2200, 2300, and 2500 are not the leap years.\n",
        "Write a Python program that prints such as \"2020 is a leap year\" if the given year by the user is a leap year, prints such as \"2019 is not a leap year\" otherwise."
      ],
      "metadata": {
        "id": "6g6EDZWumk85"
      }
    },
    {
      "cell_type": "code",
      "execution_count": 8,
      "metadata": {
        "colab": {
          "base_uri": "https://localhost:8080/"
        },
        "id": "erLsVoSfmWyr",
        "outputId": "1315f273-b235-4c33-830d-94214dc56d1e"
      },
      "outputs": [
        {
          "output_type": "stream",
          "name": "stdout",
          "text": [
            "Guess a \"leap\" year?\n",
            "Enter e year: 2020\n",
            "2020 is a leap year.\n"
          ]
        }
      ],
      "source": [
        "print('Guess a \"leap\" year?')\n",
        "year = int(input(\"Enter e year: \"))\n",
        "if year % 400 == 0 or year % 4 == 0 and year % 100 != 0 :\n",
        "  print(year, \"is a leap year.\")\n",
        "else:\n",
        "  print(year, \"is not a leap year\")"
      ]
    },
    {
      "cell_type": "code",
      "source": [],
      "metadata": {
        "id": "x0cBi7OnpTr0"
      },
      "execution_count": null,
      "outputs": []
    }
  ]
}