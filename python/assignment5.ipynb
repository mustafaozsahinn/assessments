{
  "nbformat": 4,
  "nbformat_minor": 0,
  "metadata": {
    "colab": {
      "provenance": [],
      "collapsed_sections": [],
      "authorship_tag": "ABX9TyPcJTFfCpXore1yTCMXT/rq",
      "include_colab_link": true
    },
    "kernelspec": {
      "name": "python3",
      "display_name": "Python 3"
    },
    "language_info": {
      "name": "python"
    }
  },
  "cells": [
    {
      "cell_type": "markdown",
      "metadata": {
        "id": "view-in-github",
        "colab_type": "text"
      },
      "source": [
        "<a href=\"https://colab.research.google.com/github/mustafaozsahinn/assessments/blob/main/ass5_leapyear.ipynb\" target=\"_parent\"><img src=\"https://colab.research.google.com/assets/colab-badge.svg\" alt=\"Open In Colab\"/></a>"
      ]
    },
    {
      "cell_type": "code",
      "execution_count": null,
      "metadata": {
        "id": "4zJjfAV-n3Lc"
      },
      "outputs": [],
      "source": [
        "# Task:\n",
        "\n",
        "# Find out if a given year is a \"leap\" year.\n",
        "\n",
        "# In the Gregorian calendar, three criteria must be taken into account to identify leap years:\n",
        "# The year must be evenly divisible by 4;\n",
        "# If the year can also be evenly divided by 100, it is not a leap year; unless...\n",
        "# The year is also evenly divisible by 400. Then it is a leap year.\n",
        "# According to these rules, the years 2000 and 2400 are leap years, while 1800, 1900, 2100, 2200, 2300, and 2500 are not the leap years.\n",
        "# Write a Python program that;\n",
        "# Takes a 4-digit year from the user,\n",
        "# Prints True if the given year by the user is a leap year, prints False otherwise."
      ]
    },
    {
      "cell_type": "code",
      "source": [
        "print('Guess a \"leap\" year?')\n",
        "leap_year = int(input(\"Enter e year: \"))\n",
        "print(leap_year, \"is a leap year:\", \n",
        "      bool((leap_year % 4 == 0) \n",
        "      and not (leap_year % 100 == 0) \n",
        "      or (leap_year % 400 == 0)\n",
        "      ))"
      ],
      "metadata": {
        "colab": {
          "base_uri": "https://localhost:8080/"
        },
        "id": "kmA27PbXn8Oh",
        "outputId": "3d4b7ed9-980a-45dc-81ee-055130ca02bd"
      },
      "execution_count": null,
      "outputs": [
        {
          "output_type": "stream",
          "name": "stdout",
          "text": [
            "Guess a \"leap\" year?\n",
            "Enter e year: 2022\n",
            "2022 is a leap year: False\n"
          ]
        }
      ]
    }
  ]
}