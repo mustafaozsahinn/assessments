{
  "nbformat": 4,
  "nbformat_minor": 0,
  "metadata": {
    "colab": {
      "provenance": [],
      "collapsed_sections": [],
      "authorship_tag": "ABX9TyMcjHOjf3+dhW27dj3BKlPS",
      "include_colab_link": true
    },
    "kernelspec": {
      "name": "python3",
      "display_name": "Python 3"
    },
    "language_info": {
      "name": "python"
    }
  },
  "cells": [
    {
      "cell_type": "markdown",
      "metadata": {
        "id": "view-in-github",
        "colab_type": "text"
      },
      "source": [
        "<a href=\"https://colab.research.google.com/github/mustafaozsahinn/assignments/blob/main/assignment10.ipynb\" target=\"_parent\"><img src=\"https://colab.research.google.com/assets/colab-badge.svg\" alt=\"Open In Colab\"/></a>"
      ]
    },
    {
      "cell_type": "markdown",
      "source": [
        "Problem :\n",
        "\n",
        "Task : Estimating the risk of death from coronavirus. Write a program that;\n",
        "\n",
        "Takes \"Yes\" or \"No\" from the user as an answer to the following questions :\n",
        "\n",
        "Are you a cigarette addict older than 75 years old? Variable → age\n",
        "\n",
        "Do you have a severe chronic disease? Variable → chronic\n",
        "\n",
        "Is your immune system too weak? Variable → immune\n",
        "\n",
        "Set a logical algorithm using boolean logic operators (and/or) and use if-statements with the given variables in order to print out us a message : \"You are in risky group\"(if True ) or \"You are not in risky group\" (if False).\n",
        "age =  # can be assigned only True/False\n",
        "chronic =  # can be assigned only True/False\n",
        "immune =  # can be assigned only True/False\n",
        "risk = ?"
      ],
      "metadata": {
        "id": "oblWdNltndly"
      }
    },
    {
      "cell_type": "code",
      "execution_count": 1,
      "metadata": {
        "colab": {
          "base_uri": "https://localhost:8080/"
        },
        "id": "5gGCgt3Dnaaa",
        "outputId": "ad43a633-208e-49de-902d-aebccfb7ea74"
      },
      "outputs": [
        {
          "output_type": "stream",
          "name": "stdout",
          "text": [
            "Please answer the follwing questions, only \"Yes\" or \"No\" will be accepted\n",
            "Are you a cigarette addict older than 75 years old?no\n",
            "Do you have a severe chronic disease?yes\n",
            "Is your immune system too weak?no\n",
            "You are in risky group, be careful!\n"
          ]
        }
      ],
      "source": [
        "print('Please answer the follwing questions, only \"Yes\" or \"No\" will be accepted')\n",
        "\n",
        "age = input(\"Are you a cigarette addict older than 75 years old?\").lower().replace(\" \", \"\")\n",
        "chronic = input(\"Do you have a severe chronic disease?\").lower().replace(\" \", \"\")\n",
        "immune = input(\"Is your immune system too weak?\").lower().replace(\" \", \"\")\n",
        "\n",
        "if age == \"yes\" or chronic == \"yes\" or immune == \"yes\":\n",
        "  print(\"You are in risky group, be careful!\")\n",
        "elif age == \"no\" and chronic == \"no\" and immune == \"no\":\n",
        "  print(\"You are not in risky group, stay be healty!\")\n",
        "else:\n",
        "  print(\"Answers must be Yes or No. Please check your answers.\")\n"
      ]
    },
    {
      "cell_type": "code",
      "source": [],
      "metadata": {
        "id": "H7et4tVlqVWA"
      },
      "execution_count": null,
      "outputs": []
    }
  ]
}