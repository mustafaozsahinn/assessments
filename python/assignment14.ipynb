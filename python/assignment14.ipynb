{
  "nbformat": 4,
  "nbformat_minor": 0,
  "metadata": {
    "colab": {
      "provenance": [],
      "collapsed_sections": [],
      "authorship_tag": "ABX9TyORK2E2pbGqmMkgeKKHweOL",
      "include_colab_link": true
    },
    "kernelspec": {
      "name": "python3",
      "display_name": "Python 3"
    },
    "language_info": {
      "name": "python"
    }
  },
  "cells": [
    {
      "cell_type": "markdown",
      "metadata": {
        "id": "view-in-github",
        "colab_type": "text"
      },
      "source": [
        "<a href=\"https://colab.research.google.com/github/mustafaozsahinn/assignments/blob/main/assignment14.ipynb\" target=\"_parent\"><img src=\"https://colab.research.google.com/assets/colab-badge.svg\" alt=\"Open In Colab\"/></a>"
      ]
    },
    {
      "cell_type": "markdown",
      "source": [
        "Task : Create a list consisting of Fibonacci numbers from 1 to 55 using control flow statements and range() function.\n",
        "\n",
        "The desired output is like this:\n",
        "\n",
        "fibonacci →  [1, 1, 2, 3, 5, 8, 13, 21, 34, 55]"
      ],
      "metadata": {
        "id": "hNCkTDFCLZkW"
      }
    },
    {
      "cell_type": "code",
      "source": [
        "num1 = 1\n",
        "num2 = 0\n",
        "mylist = list(range(10))\n",
        "\n",
        "for i in mylist:\n",
        " sum1 = num1 + num2\n",
        " print(sum1)\n",
        " num1 = num2\n",
        " num2 = sum1"
      ],
      "metadata": {
        "colab": {
          "base_uri": "https://localhost:8080/"
        },
        "id": "5VHMQTK9OVa5",
        "outputId": "a2a9064b-897e-47b1-d897-25529bea56e8"
      },
      "execution_count": 1,
      "outputs": [
        {
          "output_type": "stream",
          "name": "stdout",
          "text": [
            "1\n",
            "1\n",
            "2\n",
            "3\n",
            "5\n",
            "8\n",
            "13\n",
            "21\n",
            "34\n",
            "55\n"
          ]
        }
      ]
    },
    {
      "cell_type": "code",
      "source": [],
      "metadata": {
        "id": "f5AtuiNPQx2o"
      },
      "execution_count": 1,
      "outputs": []
    }
  ]
}