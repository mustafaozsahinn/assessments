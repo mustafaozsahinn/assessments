{
  "nbformat": 4,
  "nbformat_minor": 0,
  "metadata": {
    "colab": {
      "provenance": [],
      "collapsed_sections": [],
      "authorship_tag": "ABX9TyNvuT2S+rfCDOPZgGqD0gX2",
      "include_colab_link": true
    },
    "kernelspec": {
      "name": "python3",
      "display_name": "Python 3"
    },
    "language_info": {
      "name": "python"
    }
  },
  "cells": [
    {
      "cell_type": "markdown",
      "metadata": {
        "id": "view-in-github",
        "colab_type": "text"
      },
      "source": [
        "<a href=\"https://colab.research.google.com/github/mustafaozsahinn/assignments/blob/main/assingment13.ipynb\" target=\"_parent\"><img src=\"https://colab.research.google.com/assets/colab-badge.svg\" alt=\"Open In Colab\"/></a>"
      ]
    },
    {
      "cell_type": "markdown",
      "source": [
        "Task : Write a program that takes a number from the user and prints the result to check if it is a prime number."
      ],
      "metadata": {
        "id": "ZQYkN2RJBE0U"
      }
    },
    {
      "cell_type": "code",
      "execution_count": 22,
      "metadata": {
        "colab": {
          "base_uri": "https://localhost:8080/"
        },
        "id": "1bh5V-YN7nUV",
        "outputId": "31d395b5-2bf9-450e-d2fe-2e98ba1a2d6d"
      },
      "outputs": [
        {
          "output_type": "stream",
          "name": "stdout",
          "text": [
            "enter a number: 14\n",
            "14 is not a prime number\n"
          ]
        }
      ],
      "source": [
        "num = int(input(\"enter a number: \"))\n",
        "i = 1\n",
        "\n",
        "if num == 2:\n",
        "   print(f\"{num} is a prime number\") \n",
        "else:\n",
        "  while i < num:\n",
        "    i += 1\n",
        "    if num % i != 0:\n",
        "      print(f\"{num} is a prime number\")\n",
        "    else:\n",
        "      print(f\"{num} is not a prime number\")\n",
        "    break"
      ]
    },
    {
      "cell_type": "code",
      "source": [],
      "metadata": {
        "id": "uOTKVX71-kML"
      },
      "execution_count": null,
      "outputs": []
    }
  ]
}