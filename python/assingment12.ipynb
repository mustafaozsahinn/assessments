{
  "nbformat": 4,
  "nbformat_minor": 0,
  "metadata": {
    "colab": {
      "provenance": [],
      "collapsed_sections": [],
      "authorship_tag": "ABX9TyOBxfhdTbmWkMH3XIJejHtQ",
      "include_colab_link": true
    },
    "kernelspec": {
      "name": "python3",
      "display_name": "Python 3"
    },
    "language_info": {
      "name": "python"
    }
  },
  "cells": [
    {
      "cell_type": "markdown",
      "metadata": {
        "id": "view-in-github",
        "colab_type": "text"
      },
      "source": [
        "<a href=\"https://colab.research.google.com/github/mustafaozsahinn/assignments/blob/main/assingment12.ipynb\" target=\"_parent\"><img src=\"https://colab.research.google.com/assets/colab-badge.svg\" alt=\"Open In Colab\"/></a>"
      ]
    },
    {
      "cell_type": "markdown",
      "source": [
        "Task:\n",
        "\n",
        "Find out if a given number is an \"Armstrong Number\".\n",
        "\n",
        "An n-digit number that is the sum of the nth powers of its digits is called an n-Armstrong number. Examples :\n",
        "371 = 33 + 73 + 13;\n",
        "9474 = 94 + 44 + 74 + 44;\n",
        "93084 = 95 + 35 + 05 + 85 + 45.\n",
        "\n",
        "Write a Python program that;\n",
        "takes a positive integer number from the user,\n",
        "checks the entered number if it is Armstrong,\n",
        "consider the negative, float and any entries other than numeric values then display a warning message to the user."
      ],
      "metadata": {
        "id": "DSSK2SgT6EAD"
      }
    },
    {
      "cell_type": "code",
      "source": [
        "print(\"Armstrong number finder\")\n",
        "\n",
        "number = input(\"enter your number: \")\n",
        "sum = 0\n",
        "\n",
        "i = 0\n",
        "if number.isnumeric() == 1:\n",
        "  while i <= len(number)-1:\n",
        "    num = int(number[i])**len(number)\n",
        "    sum += num\n",
        "    i += 1\n",
        "  \n",
        "  if sum == int(number):\n",
        "      print(f\"{number} is an Armstrong number.\")\n",
        "  else:\n",
        "      print(f\"{number} is not an Armstorng number. Try again.\")\n",
        "\n",
        "else:\n",
        "  print(f\"{number} is an invalid entry. Don't use non-numeric, float, or negative values!\")"
      ],
      "metadata": {
        "colab": {
          "base_uri": "https://localhost:8080/"
        },
        "id": "G-HC7bKt6DwO",
        "outputId": "8b24c05a-102e-492a-c9db-0c800a29b8f5"
      },
      "execution_count": 42,
      "outputs": [
        {
          "output_type": "stream",
          "name": "stdout",
          "text": [
            "Armstrong number finder\n",
            "enter your number: 371\n",
            "371 is an Armstrong number.\n"
          ]
        }
      ]
    },
    {
      "cell_type": "code",
      "source": [],
      "metadata": {
        "id": "2mAbB09MAd1H"
      },
      "execution_count": null,
      "outputs": []
    }
  ]
}