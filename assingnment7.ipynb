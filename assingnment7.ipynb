{
  "nbformat": 4,
  "nbformat_minor": 0,
  "metadata": {
    "colab": {
      "provenance": [],
      "collapsed_sections": [],
      "authorship_tag": "ABX9TyM42KLfIuCI/RGezfVp6POV",
      "include_colab_link": true
    },
    "kernelspec": {
      "name": "python3",
      "display_name": "Python 3"
    },
    "language_info": {
      "name": "python"
    }
  },
  "cells": [
    {
      "cell_type": "markdown",
      "metadata": {
        "id": "view-in-github",
        "colab_type": "text"
      },
      "source": [
        "<a href=\"https://colab.research.google.com/github/mustafaozsahinn/assessments/blob/main/assingnment7.ipynb\" target=\"_parent\"><img src=\"https://colab.research.google.com/assets/colab-badge.svg\" alt=\"Open In Colab\"/></a>"
      ]
    },
    {
      "cell_type": "code",
      "source": [
        "# Task - 1 :\n",
        "# You work for a manufacturer as a programmer and have been asked to calculate \n",
        "# the total profit made on the sales of a product. You are given a dictionary \n",
        "# (sales) containing the cost price per unit (in dollars), sell price per unit \n",
        "# (in dollars), and the beginning inventory. Write a program to return the total\n",
        "# profit made, rounded to the nearest dollar. Assume all of the inventory has been sold.\n",
        "# The name and the keys of the dictionary are constant, so use them as they are.\n",
        "\n",
        "# The example of the values (sell-cost value, inventory) and total profit :\n",
        "\n",
        "sales = {\n",
        "  \"cost_value\": 31.87,\n",
        "  \"sell_value\": 45.00,\n",
        "  \"inventory\": 1000\n",
        "}  \n",
        "\n",
        "# the profit will be : 13130"
      ],
      "metadata": {
        "id": "eO-AwuELTJO3"
      },
      "execution_count": null,
      "outputs": []
    },
    {
      "cell_type": "code",
      "execution_count": 1,
      "metadata": {
        "colab": {
          "base_uri": "https://localhost:8080/"
        },
        "id": "VuwaECw8OZZz",
        "outputId": "9d71bc7b-29fc-4996-db39-1669e96cfb25"
      },
      "outputs": [
        {
          "output_type": "stream",
          "name": "stdout",
          "text": [
            "13130\n"
          ]
        }
      ],
      "source": [
        "#task 1 first answer\n",
        "sales = {\n",
        "  \"cost_value\": 31.87,\n",
        "  \"sell_value\": 45.00,\n",
        "  \"inventory\": 1000\n",
        "}  \n",
        "\n",
        "mydict = sales.values()\n",
        "mylist = list(mydict)\n",
        "total_profit = mylist[2] * (mylist[1] - mylist[0]) \n",
        "print(round(total_profit))"
      ]
    },
    {
      "cell_type": "code",
      "source": [
        "# second way\n",
        "total_profit = sales[\"inventory\"] * (sales[\"sell_value\"] - sales[\"cost_value\"])\n",
        "print(round(total_profit))"
      ],
      "metadata": {
        "colab": {
          "base_uri": "https://localhost:8080/"
        },
        "id": "F6-hrrgiSsn4",
        "outputId": "1b39ad17-c593-4e21-ca82-d00dee32bba9"
      },
      "execution_count": 2,
      "outputs": [
        {
          "output_type": "stream",
          "name": "stdout",
          "text": [
            "13130\n"
          ]
        }
      ]
    },
    {
      "cell_type": "code",
      "source": [
        "# Task - 2 :\n",
        "# Your boss wants you to prepare the payrolls of the workers in your department.\n",
        "# You have to convert the amount of dollars into payroll format.\n",
        "# In order to help move things along, you have volunteered to write a code \n",
        "# that will take a float and return the money in the following format (as dollars and cents).\n",
        "\n",
        "# Examples\n",
        "\n",
        "# Given Float Type amount\t      Desired Output\n",
        "# 3\t                            $3.00\n",
        "# 29.99\t                        $29.99\n",
        "# 4.1\t                          $4.10\n",
        "\n",
        "# The output should be float type as well and two digits after the period."
      ],
      "metadata": {
        "id": "kittlCySTc4H"
      },
      "execution_count": null,
      "outputs": []
    },
    {
      "cell_type": "code",
      "source": [
        "# answer\n",
        "payrolls = {\"first\" : 3,\n",
        "            \"second\" : 29.99,\n",
        "            \"third\" : 4.1}\n",
        "\n",
        "print(\" ${:.2f} \".format(payrolls[\"first\"]))\n",
        "\n",
        "print(\" ${:.2f} \".format(payrolls[\"second\"]))\n",
        "\n",
        "print(\" ${:.2f} \".format(payrolls[\"third\"]))"
      ],
      "metadata": {
        "colab": {
          "base_uri": "https://localhost:8080/"
        },
        "id": "Awxr319sTjhU",
        "outputId": "430280c1-ec61-41f1-905b-c4d1d8de2563"
      },
      "execution_count": 5,
      "outputs": [
        {
          "output_type": "stream",
          "name": "stdout",
          "text": [
            " $3.00 \n",
            " $29.99 \n",
            " $4.10 \n"
          ]
        }
      ]
    },
    {
      "cell_type": "markdown",
      "source": [
        "# extra examples\n",
        "mutable : değiştirilebilir.\n",
        "* list\n",
        "* dictionary\n",
        "* set\n",
        "* user-defined class\n",
        "\n",
        "immutable (hashable): yani hash değeri var ve değiştirilemez.\n",
        "* int\n",
        "* float\n",
        "* decimal\n",
        "* bool\n",
        "* string\n",
        "* tuple\n",
        "* range"
      ],
      "metadata": {
        "id": "2GCrVq47UdIT"
      }
    },
    {
      "cell_type": "code",
      "source": [
        "dictionary = {}\n",
        "key1 = (1, 2, 3)\n",
        "dictionary[key1] = \"value\"\n",
        "dictionary"
      ],
      "metadata": {
        "colab": {
          "base_uri": "https://localhost:8080/"
        },
        "id": "wfko3JT2UfzJ",
        "outputId": "57e91f3c-6fb9-4e7d-c652-2a4a4b8fb539"
      },
      "execution_count": 6,
      "outputs": [
        {
          "output_type": "execute_result",
          "data": {
            "text/plain": [
              "{(1, 2, 3): 'value'}"
            ]
          },
          "metadata": {},
          "execution_count": 6
        }
      ]
    },
    {
      "cell_type": "code",
      "source": [
        "key2 = 45\n",
        "dictionary[key2] = \"value2\"\n",
        "dictionary"
      ],
      "metadata": {
        "colab": {
          "base_uri": "https://localhost:8080/"
        },
        "id": "pXYCyW1oYihJ",
        "outputId": "8c3fe521-4bef-4a53-af11-f77ebd0039ad"
      },
      "execution_count": 8,
      "outputs": [
        {
          "output_type": "execute_result",
          "data": {
            "text/plain": [
              "{(1, 2, 3): 'value', 45: 'value2'}"
            ]
          },
          "metadata": {},
          "execution_count": 8
        }
      ]
    },
    {
      "cell_type": "code",
      "source": [
        "key3 = \"fuad\"\n",
        "dictionary[key3] = \"value3\"\n",
        "dictionary"
      ],
      "metadata": {
        "colab": {
          "base_uri": "https://localhost:8080/"
        },
        "id": "3n6w1Py3Yo-5",
        "outputId": "36afe9dd-7a05-4b5a-cf0e-f022a62d21ab"
      },
      "execution_count": 9,
      "outputs": [
        {
          "output_type": "execute_result",
          "data": {
            "text/plain": [
              "{(1, 2, 3): 'value', 45: 'value2', 'fuad': 'value3'}"
            ]
          },
          "metadata": {},
          "execution_count": 9
        }
      ]
    },
    {
      "cell_type": "code",
      "source": [
        "# key 4 olmayacak çünkü key olarak mutable olduğu için list, dict filan olmaz\n",
        "key4 = [1, 2, 3]\n",
        "dictionary[key4] = \"value4\""
      ],
      "metadata": {
        "colab": {
          "base_uri": "https://localhost:8080/",
          "height": 187
        },
        "id": "qYjDxUQ8Yygs",
        "outputId": "60cbbc0f-6774-4fd6-8273-a354b1df9cb4"
      },
      "execution_count": 10,
      "outputs": [
        {
          "output_type": "error",
          "ename": "TypeError",
          "evalue": "ignored",
          "traceback": [
            "\u001b[0;31m---------------------------------------------------------------------------\u001b[0m",
            "\u001b[0;31mTypeError\u001b[0m                                 Traceback (most recent call last)",
            "\u001b[0;32m<ipython-input-10-e30ab188c01e>\u001b[0m in \u001b[0;36m<module>\u001b[0;34m\u001b[0m\n\u001b[1;32m      1\u001b[0m \u001b[0mkey4\u001b[0m \u001b[0;34m=\u001b[0m \u001b[0;34m[\u001b[0m\u001b[0;36m1\u001b[0m\u001b[0;34m,\u001b[0m \u001b[0;36m2\u001b[0m\u001b[0;34m,\u001b[0m \u001b[0;36m3\u001b[0m\u001b[0;34m]\u001b[0m\u001b[0;34m\u001b[0m\u001b[0;34m\u001b[0m\u001b[0m\n\u001b[0;32m----> 2\u001b[0;31m \u001b[0mdictionary\u001b[0m\u001b[0;34m[\u001b[0m\u001b[0mkey4\u001b[0m\u001b[0;34m]\u001b[0m \u001b[0;34m=\u001b[0m \u001b[0;34m\"value4\"\u001b[0m\u001b[0;34m\u001b[0m\u001b[0;34m\u001b[0m\u001b[0m\n\u001b[0m",
            "\u001b[0;31mTypeError\u001b[0m: unhashable type: 'list'"
          ]
        }
      ]
    },
    {
      "cell_type": "code",
      "source": [
        "# burada çok hızlı ilerledik. notları hoca paylaşacak."
      ],
      "metadata": {
        "id": "YGqlqi4Dbcwv"
      },
      "execution_count": null,
      "outputs": []
    },
    {
      "cell_type": "code",
      "source": [
        "# zip fonksiyonu iki listeyi pair şeklinde birleştirdi.\n",
        "# zip kendini göstermez -on the air olduğu için-, list içine atmak gerekir.\n",
        "# dictionary oluşturmak için kullanılabilir.\n",
        "\n",
        "alist = [1, 2, 3, 4, 5]\n",
        "blist = [\"a\", \"b\", \"c\", \"d\", \"e\"]\n",
        "ziplist = zip(alist, blist)\n",
        "print(ziplist)\n",
        "print(list(ziplist))"
      ],
      "metadata": {
        "colab": {
          "base_uri": "https://localhost:8080/"
        },
        "id": "ujk6YduAaPhp",
        "outputId": "aded2b01-8357-47ea-dfd0-f77240114cc0"
      },
      "execution_count": 16,
      "outputs": [
        {
          "output_type": "stream",
          "name": "stdout",
          "text": [
            "<zip object at 0x7fdb0c821c80>\n",
            "[(1, 'a'), (2, 'b'), (3, 'c'), (4, 'd'), (5, 'e')]\n",
            "\n"
          ]
        }
      ]
    },
    {
      "cell_type": "code",
      "source": [
        "# * ile print edince boş geliyor!!\n",
        "print(*ziplist)"
      ],
      "metadata": {
        "colab": {
          "base_uri": "https://localhost:8080/"
        },
        "id": "G8T9fCrObQbK",
        "outputId": "60e7e78c-7374-4ebf-e526-b28e0034f7d9"
      },
      "execution_count": 17,
      "outputs": [
        {
          "output_type": "stream",
          "name": "stdout",
          "text": [
            "\n"
          ]
        }
      ]
    },
    {
      "cell_type": "code",
      "source": [
        "# range ile sonsuz listeler oluşturulabilir,\n",
        "# zip ile bu listeler dictionary haline getirilir.\n",
        "basiclist = list(range(10))\n",
        "dict(list(zip(basiclist, basiclist)))"
      ],
      "metadata": {
        "colab": {
          "base_uri": "https://localhost:8080/"
        },
        "id": "0gP-T1GwbZRi",
        "outputId": "e4ad3a8a-9209-4e37-cc90-545cf43196b1"
      },
      "execution_count": 20,
      "outputs": [
        {
          "output_type": "execute_result",
          "data": {
            "text/plain": [
              "{0: 0, 1: 1, 2: 2, 3: 3, 4: 4, 5: 5, 6: 6, 7: 7, 8: 8, 9: 9}"
            ]
          },
          "metadata": {},
          "execution_count": 20
        }
      ]
    }
  ]
}