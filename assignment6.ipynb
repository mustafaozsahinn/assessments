{
  "nbformat": 4,
  "nbformat_minor": 0,
  "metadata": {
    "colab": {
      "provenance": [],
      "collapsed_sections": [],
      "authorship_tag": "ABX9TyNLlFSss1LIsxQ4ywYV3hOz",
      "include_colab_link": true
    },
    "kernelspec": {
      "name": "python3",
      "display_name": "Python 3"
    },
    "language_info": {
      "name": "python"
    }
  },
  "cells": [
    {
      "cell_type": "markdown",
      "metadata": {
        "id": "view-in-github",
        "colab_type": "text"
      },
      "source": [
        "<a href=\"https://colab.research.google.com/github/mustafaozsahinn/assessments/blob/main/assignment6.ipynb\" target=\"_parent\"><img src=\"https://colab.research.google.com/assets/colab-badge.svg\" alt=\"Open In Colab\"/></a>"
      ]
    },
    {
      "cell_type": "code",
      "source": [
        "# Task : Find out the most frequent number and its frequency.\n",
        "\n",
        "# Write a program that;\n",
        "# Finds out the most frequent number in the given list.\n",
        "# Calculates its frequency.\n",
        "\n",
        "# Prints out the result such as:\n",
        "\n",
        "# Example\n",
        "# Given list\n",
        "# numbers = [1, 3, 7, 4, 3, 0, 3, 6, 3]\n",
        "\n",
        "# Desired Output\n",
        "# the most frequent number is 3 and it was 4 times repeated\n",
        "\n",
        "# Note : You may need to use useful/necessary built-in functions and list methods \n",
        "# other than the functions we haven't covered in the lessons yet. "
      ],
      "metadata": {
        "id": "59tKcVP0IPaY"
      },
      "execution_count": 1,
      "outputs": []
    },
    {
      "cell_type": "code",
      "execution_count": 2,
      "metadata": {
        "colab": {
          "base_uri": "https://localhost:8080/"
        },
        "id": "_M6RFDHhtSwC",
        "outputId": "c39c06e0-0f53-4819-b190-1ecb4609dddd"
      },
      "outputs": [
        {
          "output_type": "execute_result",
          "data": {
            "text/plain": [
              "7"
            ]
          },
          "metadata": {},
          "execution_count": 2
        }
      ],
      "source": [
        "# max() fonksiyonu en büyük değeri getirir. harflerde ASCII value göre sıralanır.\n",
        "numbers = [1, 3, 7, 4, 3, 0, 3, 6, 3]\n",
        "max(numbers)"
      ]
    },
    {
      "cell_type": "code",
      "source": [
        "# max() fonksiyonu içinde key parametresi değişitirilerek farklı amaçlar için kullanılabilir.\n",
        "max(numbers, key = numbers.count)"
      ],
      "metadata": {
        "colab": {
          "base_uri": "https://localhost:8080/"
        },
        "id": "HHLwOc9rOJUe",
        "outputId": "f7a19484-6fe2-4c39-99d8-93f5635ec553"
      },
      "execution_count": 3,
      "outputs": [
        {
          "output_type": "execute_result",
          "data": {
            "text/plain": [
              "3"
            ]
          },
          "metadata": {},
          "execution_count": 3
        }
      ]
    },
    {
      "cell_type": "code",
      "source": [
        "# .count() metodu tekrar sayısını verir.\n",
        "numbers.count(max(numbers, key = numbers.count))"
      ],
      "metadata": {
        "colab": {
          "base_uri": "https://localhost:8080/"
        },
        "id": "fMUhk1GHJthA",
        "outputId": "a8b28c29-2ec0-49dc-c21b-87f036d29c46"
      },
      "execution_count": 4,
      "outputs": [
        {
          "output_type": "execute_result",
          "data": {
            "text/plain": [
              "4"
            ]
          },
          "metadata": {},
          "execution_count": 4
        }
      ]
    },
    {
      "cell_type": "code",
      "source": [
        "numbers = [1, 3, 7, 4, 3, 0, 3, 6, 3, 4, 4, 4, 2, 2, 2, 2, 2]\n",
        "print(\"The most frequent number is\", max(numbers, key = numbers.count), \n",
        "      \" and it was\", numbers.count(max(numbers, key = numbers.count)),\n",
        "      \"times repeated.\")"
      ],
      "metadata": {
        "colab": {
          "base_uri": "https://localhost:8080/"
        },
        "id": "pwkmM3m1Oury",
        "outputId": "4d3fc50f-b0f7-4a32-a2c6-2974188af466"
      },
      "execution_count": 11,
      "outputs": [
        {
          "output_type": "stream",
          "name": "stdout",
          "text": [
            "The most frequent number is 2  and it was 5 times repeated.\n"
          ]
        }
      ]
    },
    {
      "cell_type": "markdown",
      "source": [
        "ekstra örnek"
      ],
      "metadata": {
        "id": "Si5nFykJRmw3"
      }
    },
    {
      "cell_type": "code",
      "source": [
        "# sorted fonksiyonu normal sıralar\n",
        "cities = [\"new york\", \"chicago\", \"miami\", \"denver\"]\n",
        "sorted(cities)"
      ],
      "metadata": {
        "colab": {
          "base_uri": "https://localhost:8080/"
        },
        "id": "052g8J6-RpKw",
        "outputId": "e4f7b415-73a2-410e-eb65-03d3b679e696"
      },
      "execution_count": 12,
      "outputs": [
        {
          "output_type": "execute_result",
          "data": {
            "text/plain": [
              "['chicago', 'denver', 'miami', 'new york']"
            ]
          },
          "metadata": {},
          "execution_count": 12
        }
      ]
    },
    {
      "cell_type": "code",
      "source": [
        "# sorted da key ile değiştirilebilir.\n",
        "sorted(cities, key = len)"
      ],
      "metadata": {
        "colab": {
          "base_uri": "https://localhost:8080/"
        },
        "id": "9t2HCqzwRzTx",
        "outputId": "158cc297-ed94-4624-df99-dff25c6b2b91"
      },
      "execution_count": 13,
      "outputs": [
        {
          "output_type": "execute_result",
          "data": {
            "text/plain": [
              "['miami', 'denver', 'chicago', 'new york']"
            ]
          },
          "metadata": {},
          "execution_count": 13
        }
      ]
    }
  ]
}